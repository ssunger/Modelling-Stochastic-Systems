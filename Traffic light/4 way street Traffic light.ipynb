{
 "cells": [
  {
   "cell_type": "code",
   "execution_count": 1,
   "metadata": {
    "collapsed": true
   },
   "outputs": [],
   "source": [
    "import random as rd\n",
    "import math\n",
    "import numpy as np"
   ]
  },
  {
   "cell_type": "code",
   "execution_count": 2,
   "metadata": {
    "collapsed": true
   },
   "outputs": [],
   "source": [
    "def G_light_N_S(light_time):\n",
    "    t = light_time\n",
    "    v_num = np.random.poisson(1.2*t)\n",
    "    arive_t = sorted(np.random.uniform(0, t, v_num))\n",
    "    car_pas = int(np.random.uniform(t,2*t))\n",
    "    return (v_num, arive_t, car_pas)\n",
    "\n",
    "def R_light_N_S():\n",
    "    t = 30\n",
    "    v_num = np.random.poisson(1.2*t)\n",
    "    arive_t = sorted(np.random.uniform(0, t, v_num))\n",
    "    return (v_num, arive_t)\n",
    "\n",
    "def G_light_E_W():\n",
    "    t = 30\n",
    "    v_num = np.random.poisson(0.7*t)\n",
    "    arive_t = sorted(np.random.uniform(0, t, v_num))\n",
    "    car_pas = int(np.random.uniform(t,2*t))\n",
    "    return v_num, arive_t, car_pas\n",
    "\n",
    "def R_light_E_W(light_time):\n",
    "    t = light_time\n",
    "    v_num = np.random.poisson(0.7*t)\n",
    "    arive_t = sorted(np.random.uniform(0, t, v_num))\n",
    "    return (v_num, arive_t)\n",
    "\n",
    "def calc_avg_wt(base_wc, base_wt, wc_new, wc_g):\n",
    "    old = base_wc*base_wt\n",
    "    new =  np.sum(wc_new[:wc_g])\n",
    "    wt = (old + new)/(base_wc + wc_g) \n",
    "    return(wt)\n",
    "    "
   ]
  },
  {
   "cell_type": "code",
   "execution_count": 3,
   "metadata": {
    "collapsed": true
   },
   "outputs": [],
   "source": [
    "def simulate(waiting_time):\n",
    "    wt = waiting_time\n",
    "    #start with empty interesection and unbiased waiting time ( waiting time 0)\n",
    "    vect_car_EW = []\n",
    "    vect_car_NS = []\n",
    "    EW_wt = 0\n",
    "    base_wc_EW = 0\n",
    "    NS_wt = 0\n",
    "    base_wc_NS = 0\n",
    "    for i in range(0,500):\n",
    "        #begin with G_EW, R_NS each period\n",
    "        Vec_EW = G_light_E_W()\n",
    "        Vec_NS = R_light_N_S()\n",
    "        #number of cars arrived now EW\n",
    "        new_w_c = Vec_EW[0]\n",
    "        #num of cars going EW\n",
    "        new_g = Vec_EW[2]\n",
    "        #recalculating waiting time EW\n",
    "        EW_wt = calc_avg_wt(base_wc_EW, EW_wt, vect_car_EW, new_g)\n",
    "        base_wc_EW += new_g\n",
    "        #number of cars waiting from before EW\n",
    "        tick = len(vect_car_EW)\n",
    "        #new waiting times for cars waiting EW\n",
    "        vect_car_EW = [x + 30 for x in vect_car_EW[new_g:]] + [30 - x for x in Vec_EW[1][max(new_g - tick,0):]]\n",
    "        #new waiting times for cars waiting NS\n",
    "        vect_car_NS = [x + 30 for x in vect_car_NS] + [30 - x for x in Vec_NS[1]] \n",
    "        \n",
    "                \n",
    "        #then G_NS, R_EW \n",
    "        Vec_EW = R_light_E_W(wt)\n",
    "        Vec_NS = G_light_N_S(wt)\n",
    "        #number of cars arrived now NS\n",
    "        new_w_c = Vec_NS[0]\n",
    "        #num of cars going NS\n",
    "        new_g = Vec_NS[2]\n",
    "        #recalculating waiting time NS\n",
    "        NS_wt = calc_avg_wt(base_wc_NS, NS_wt, vect_car_NS, new_g)\n",
    "        base_wc_NS += new_g\n",
    "        #number of cars waiting from before NS\n",
    "        tick = len(vect_car_NS)\n",
    "        #new waiting times for cars waiting NS\n",
    "        vect_car_NS = [x + wt for x in vect_car_NS[new_g:]] + [wt - x for x in Vec_NS[1][max(new_g - tick,0):]]\n",
    "        #new waiting times for cars waiting NS\n",
    "        vect_car_EW = [x + wt for x in vect_car_EW] + [wt - x for x in Vec_EW[1]] \n",
    "\n",
    "    print(\"\\tAverage waiting time EW: \"+ str(EW_wt) +\" \\n\\tAverage waiting time NS:\" + str(NS_wt))\n",
    "        \n",
    "def trials(num_trials, smallest_wt, largest_wt):\n",
    "    x = sorted(np.random.uniform(smallest_wt, largest_wt, num_trials))\n",
    "    for i in x:\n",
    "        i = int(i)\n",
    "        print(\"For North South traffic light of length \" + str(i) + \"sec, we get:\")\n",
    "        simulate(i)        "
   ]
  },
  {
   "cell_type": "code",
   "execution_count": 6,
   "metadata": {},
   "outputs": [
    {
     "name": "stdout",
     "output_type": "stream",
     "text": [
      "For North South traffic light of length 45sec, we get:\n",
      "\tAverage waiting time EW: 2898.86541115 \n",
      "\tAverage waiting time NS:5079.26853227\n",
      "For North South traffic light of length 46sec, we get:\n",
      "\tAverage waiting time EW: 3184.00169826 \n",
      "\tAverage waiting time NS:4684.30798897\n",
      "For North South traffic light of length 47sec, we get:\n",
      "\tAverage waiting time EW: 3381.42027451 \n",
      "\tAverage waiting time NS:4705.70708373\n",
      "For North South traffic light of length 47sec, we get:\n",
      "\tAverage waiting time EW: 3065.7342325 \n",
      "\tAverage waiting time NS:4566.12478111\n",
      "For North South traffic light of length 48sec, we get:\n",
      "\tAverage waiting time EW: 3591.5015853 \n",
      "\tAverage waiting time NS:4625.56638579\n",
      "For North South traffic light of length 49sec, we get:\n",
      "\tAverage waiting time EW: 3396.08662091 \n",
      "\tAverage waiting time NS:4889.1645803\n",
      "For North South traffic light of length 51sec, we get:\n",
      "\tAverage waiting time EW: 4234.62029122 \n",
      "\tAverage waiting time NS:4205.20996124\n",
      "For North South traffic light of length 53sec, we get:\n",
      "\tAverage waiting time EW: 4517.23638939 \n",
      "\tAverage waiting time NS:3963.8289586\n",
      "For North South traffic light of length 53sec, we get:\n",
      "\tAverage waiting time EW: 4852.42023757 \n",
      "\tAverage waiting time NS:4413.48709997\n",
      "For North South traffic light of length 54sec, we get:\n",
      "\tAverage waiting time EW: 4873.92166827 \n",
      "\tAverage waiting time NS:4287.16916742\n"
     ]
    }
   ],
   "source": [
    "trials(10, 45, 55)"
   ]
  },
  {
   "cell_type": "code",
   "execution_count": null,
   "metadata": {
    "collapsed": true
   },
   "outputs": [],
   "source": []
  },
  {
   "cell_type": "code",
   "execution_count": null,
   "metadata": {
    "collapsed": true
   },
   "outputs": [],
   "source": []
  }
 ],
 "metadata": {
  "kernelspec": {
   "display_name": "Python 3",
   "language": "python",
   "name": "python3"
  },
  "language_info": {
   "codemirror_mode": {
    "name": "ipython",
    "version": 3
   },
   "file_extension": ".py",
   "mimetype": "text/x-python",
   "name": "python",
   "nbconvert_exporter": "python",
   "pygments_lexer": "ipython3",
   "version": "3.6.1"
  }
 },
 "nbformat": 4,
 "nbformat_minor": 2
}
